{
 "cells": [
  {
   "cell_type": "code",
   "execution_count": 1,
   "id": "e74ba4a1",
   "metadata": {},
   "outputs": [],
   "source": [
    "import pandas as pd\n",
    "\n",
    "df = pd.read_csv('lego_sets.csv')\n",
    "lego_themes = pd.read_csv('parent_themes.csv')"
   ]
  },
  {
   "cell_type": "code",
   "execution_count": 2,
   "id": "a63a3d3d",
   "metadata": {},
   "outputs": [
    {
     "data": {
      "text/html": [
       "<div>\n",
       "<style scoped>\n",
       "    .dataframe tbody tr th:only-of-type {\n",
       "        vertical-align: middle;\n",
       "    }\n",
       "\n",
       "    .dataframe tbody tr th {\n",
       "        vertical-align: top;\n",
       "    }\n",
       "\n",
       "    .dataframe thead th {\n",
       "        text-align: right;\n",
       "    }\n",
       "</style>\n",
       "<table border=\"1\" class=\"dataframe\">\n",
       "  <thead>\n",
       "    <tr style=\"text-align: right;\">\n",
       "      <th></th>\n",
       "      <th>set_num</th>\n",
       "      <th>name</th>\n",
       "      <th>year</th>\n",
       "      <th>num_parts</th>\n",
       "      <th>theme_name</th>\n",
       "      <th>parent_theme</th>\n",
       "    </tr>\n",
       "  </thead>\n",
       "  <tbody>\n",
       "    <tr>\n",
       "      <th>0</th>\n",
       "      <td>00-1</td>\n",
       "      <td>Weetabix Castle</td>\n",
       "      <td>1970</td>\n",
       "      <td>471.0</td>\n",
       "      <td>Castle</td>\n",
       "      <td>Legoland</td>\n",
       "    </tr>\n",
       "    <tr>\n",
       "      <th>1</th>\n",
       "      <td>0011-2</td>\n",
       "      <td>Town Mini-Figures</td>\n",
       "      <td>1978</td>\n",
       "      <td>NaN</td>\n",
       "      <td>Supplemental</td>\n",
       "      <td>Town</td>\n",
       "    </tr>\n",
       "    <tr>\n",
       "      <th>2</th>\n",
       "      <td>0011-3</td>\n",
       "      <td>Castle 2 for 1 Bonus Offer</td>\n",
       "      <td>1987</td>\n",
       "      <td>NaN</td>\n",
       "      <td>Lion Knights</td>\n",
       "      <td>Castle</td>\n",
       "    </tr>\n",
       "    <tr>\n",
       "      <th>3</th>\n",
       "      <td>0012-1</td>\n",
       "      <td>Space Mini-Figures</td>\n",
       "      <td>1979</td>\n",
       "      <td>12.0</td>\n",
       "      <td>Supplemental</td>\n",
       "      <td>Space</td>\n",
       "    </tr>\n",
       "    <tr>\n",
       "      <th>4</th>\n",
       "      <td>0013-1</td>\n",
       "      <td>Space Mini-Figures</td>\n",
       "      <td>1979</td>\n",
       "      <td>12.0</td>\n",
       "      <td>Supplemental</td>\n",
       "      <td>Space</td>\n",
       "    </tr>\n",
       "    <tr>\n",
       "      <th>5</th>\n",
       "      <td>0014-1</td>\n",
       "      <td>Space Mini-Figures</td>\n",
       "      <td>1979</td>\n",
       "      <td>12.0</td>\n",
       "      <td>Supplemental</td>\n",
       "      <td>Space</td>\n",
       "    </tr>\n",
       "    <tr>\n",
       "      <th>6</th>\n",
       "      <td>0015-1</td>\n",
       "      <td>Space Mini-Figures</td>\n",
       "      <td>1979</td>\n",
       "      <td>NaN</td>\n",
       "      <td>Supplemental</td>\n",
       "      <td>Space</td>\n",
       "    </tr>\n",
       "    <tr>\n",
       "      <th>7</th>\n",
       "      <td>0016-1</td>\n",
       "      <td>Castle Mini Figures</td>\n",
       "      <td>1978</td>\n",
       "      <td>NaN</td>\n",
       "      <td>Castle</td>\n",
       "      <td>Castle</td>\n",
       "    </tr>\n",
       "    <tr>\n",
       "      <th>8</th>\n",
       "      <td>00-2</td>\n",
       "      <td>Weetabix Promotional House 1</td>\n",
       "      <td>1976</td>\n",
       "      <td>NaN</td>\n",
       "      <td>Building</td>\n",
       "      <td>Legoland</td>\n",
       "    </tr>\n",
       "    <tr>\n",
       "      <th>9</th>\n",
       "      <td>00-3</td>\n",
       "      <td>Weetabix Promotional House 2</td>\n",
       "      <td>1976</td>\n",
       "      <td>NaN</td>\n",
       "      <td>Building</td>\n",
       "      <td>Legoland</td>\n",
       "    </tr>\n",
       "  </tbody>\n",
       "</table>\n",
       "</div>"
      ],
      "text/plain": [
       "  set_num                          name  year  num_parts    theme_name  \\\n",
       "0    00-1               Weetabix Castle  1970      471.0        Castle   \n",
       "1  0011-2             Town Mini-Figures  1978        NaN  Supplemental   \n",
       "2  0011-3    Castle 2 for 1 Bonus Offer  1987        NaN  Lion Knights   \n",
       "3  0012-1            Space Mini-Figures  1979       12.0  Supplemental   \n",
       "4  0013-1            Space Mini-Figures  1979       12.0  Supplemental   \n",
       "5  0014-1            Space Mini-Figures  1979       12.0  Supplemental   \n",
       "6  0015-1            Space Mini-Figures  1979        NaN  Supplemental   \n",
       "7  0016-1           Castle Mini Figures  1978        NaN        Castle   \n",
       "8    00-2  Weetabix Promotional House 1  1976        NaN      Building   \n",
       "9    00-3  Weetabix Promotional House 2  1976        NaN      Building   \n",
       "\n",
       "  parent_theme  \n",
       "0     Legoland  \n",
       "1         Town  \n",
       "2       Castle  \n",
       "3        Space  \n",
       "4        Space  \n",
       "5        Space  \n",
       "6        Space  \n",
       "7       Castle  \n",
       "8     Legoland  \n",
       "9     Legoland  "
      ]
     },
     "execution_count": 2,
     "metadata": {},
     "output_type": "execute_result"
    }
   ],
   "source": [
    "df.head(10)"
   ]
  },
  {
   "cell_type": "code",
   "execution_count": 54,
   "id": "584732ea",
   "metadata": {},
   "outputs": [
    {
     "data": {
      "text/plain": [
       "(11986, 6)"
      ]
     },
     "execution_count": 54,
     "metadata": {},
     "output_type": "execute_result"
    }
   ],
   "source": [
    "df.shape"
   ]
  },
  {
   "cell_type": "code",
   "execution_count": 24,
   "id": "3b1f66af",
   "metadata": {},
   "outputs": [
    {
     "data": {
      "text/html": [
       "<div>\n",
       "<style scoped>\n",
       "    .dataframe tbody tr th:only-of-type {\n",
       "        vertical-align: middle;\n",
       "    }\n",
       "\n",
       "    .dataframe tbody tr th {\n",
       "        vertical-align: top;\n",
       "    }\n",
       "\n",
       "    .dataframe thead th {\n",
       "        text-align: right;\n",
       "    }\n",
       "</style>\n",
       "<table border=\"1\" class=\"dataframe\">\n",
       "  <thead>\n",
       "    <tr style=\"text-align: right;\">\n",
       "      <th></th>\n",
       "      <th>id</th>\n",
       "      <th>name</th>\n",
       "      <th>is_licensed</th>\n",
       "    </tr>\n",
       "  </thead>\n",
       "  <tbody>\n",
       "    <tr>\n",
       "      <th>0</th>\n",
       "      <td>1</td>\n",
       "      <td>Technic</td>\n",
       "      <td>False</td>\n",
       "    </tr>\n",
       "    <tr>\n",
       "      <th>1</th>\n",
       "      <td>22</td>\n",
       "      <td>Creator</td>\n",
       "      <td>False</td>\n",
       "    </tr>\n",
       "    <tr>\n",
       "      <th>2</th>\n",
       "      <td>50</td>\n",
       "      <td>Town</td>\n",
       "      <td>False</td>\n",
       "    </tr>\n",
       "    <tr>\n",
       "      <th>3</th>\n",
       "      <td>112</td>\n",
       "      <td>Racers</td>\n",
       "      <td>False</td>\n",
       "    </tr>\n",
       "    <tr>\n",
       "      <th>4</th>\n",
       "      <td>126</td>\n",
       "      <td>Space</td>\n",
       "      <td>False</td>\n",
       "    </tr>\n",
       "    <tr>\n",
       "      <th>5</th>\n",
       "      <td>147</td>\n",
       "      <td>Pirates</td>\n",
       "      <td>False</td>\n",
       "    </tr>\n",
       "    <tr>\n",
       "      <th>6</th>\n",
       "      <td>155</td>\n",
       "      <td>Modular Buildings</td>\n",
       "      <td>False</td>\n",
       "    </tr>\n",
       "    <tr>\n",
       "      <th>7</th>\n",
       "      <td>158</td>\n",
       "      <td>Star Wars</td>\n",
       "      <td>True</td>\n",
       "    </tr>\n",
       "    <tr>\n",
       "      <th>8</th>\n",
       "      <td>186</td>\n",
       "      <td>Castle</td>\n",
       "      <td>False</td>\n",
       "    </tr>\n",
       "    <tr>\n",
       "      <th>9</th>\n",
       "      <td>204</td>\n",
       "      <td>Designer Sets</td>\n",
       "      <td>False</td>\n",
       "    </tr>\n",
       "  </tbody>\n",
       "</table>\n",
       "</div>"
      ],
      "text/plain": [
       "    id               name  is_licensed\n",
       "0    1            Technic        False\n",
       "1   22            Creator        False\n",
       "2   50               Town        False\n",
       "3  112             Racers        False\n",
       "4  126              Space        False\n",
       "5  147            Pirates        False\n",
       "6  155  Modular Buildings        False\n",
       "7  158          Star Wars         True\n",
       "8  186             Castle        False\n",
       "9  204      Designer Sets        False"
      ]
     },
     "execution_count": 24,
     "metadata": {},
     "output_type": "execute_result"
    }
   ],
   "source": [
    "lego_themes.head(10)"
   ]
  },
  {
   "cell_type": "code",
   "execution_count": 49,
   "id": "f974c8ee",
   "metadata": {},
   "outputs": [
    {
     "data": {
      "image/png": "[encoded data removed]",
      "text/plain": [
       "<Figure size 640x480 with 1 Axes>"
      ]
     },
     "metadata": {},
     "output_type": "display_data"
    }
   ],
   "source": [
    "import matplotlib.pyplot as plt\n",
    "import seaborn as sns\n",
    "\n",
    "# Bar chart showing the average number of parts in licensed vs. non-licensed themes\n",
    "avg_parts_by_license = merged_df.groupby('is_licensed')['num_parts'].mean()\n",
    "avg_parts_by_license.plot(kind='bar', color=['blue', 'orange'])\n",
    "plt.title('Average Number of Parts in Licensed vs. Non-Licensed Themes')\n",
    "plt.xlabel('Licensed Themes')\n",
    "plt.ylabel('Average Number of Parts')\n",
    "plt.xticks([0, 1], ['Non-Licensed', 'Licensed'], rotation=0)\n",
    "plt.show()\n"
   ]
  },
  {
   "cell_type": "code",
   "execution_count": 50,
   "id": "97e63a1e",
   "metadata": {},
   "outputs": [
    {
     "data": {
      "image/png": "[encoded data removed]",
      "text/plain": [
       "<Figure size 640x480 with 1 Axes>"
      ]
     },
     "metadata": {},
     "output_type": "display_data"
    }
   ],
   "source": [
    "# Bar chart showing the distribution of sets across different parent themes\n",
    "theme_counts = merged_df['parent_theme'].value_counts().head(15) \n",
    "theme_counts.plot(kind='bar', color='green')\n",
    "plt.title('Distribution of Sets Across Different Parent Themes')\n",
    "plt.xlabel('Parent Themes')\n",
    "plt.ylabel('Number of Sets')\n",
    "plt.xticks(rotation=45, ha='right')\n",
    "plt.show()"
   ]
  },
  {
   "cell_type": "code",
   "execution_count": 53,
   "id": "81ad9a6c",
   "metadata": {},
   "outputs": [
    {
     "data": {
      "image/png": "[encoded data removed]",
      "text/plain": [
       "<Figure size 800x600 with 2 Axes>"
      ]
     },
     "metadata": {},
     "output_type": "display_data"
    }
   ],
   "source": [
    "# Create a correlation matrix between number of parts and year.\n",
    "correlation_matrix = df[['num_parts', 'year']].corr()\n",
    "\n",
    "# Create a heatmap.\n",
    "plt.figure(figsize=(8, 6))\n",
    "sns.heatmap(correlation_matrix, annot=True, cmap='coolwarm', fmt='.2f', linewidths=.5)\n",
    "plt.title('Correlation Heatmap')\n",
    "plt.show()"
   ]
  },
  {
   "cell_type": "markdown",
   "id": "8d86dbfc",
   "metadata": {},
   "source": [
    "### 1. What percentage of all licensed sets ever released were Star Wars themed?"
   ]
  },
  {
   "cell_type": "code",
   "execution_count": 4,
   "id": "a4177310",
   "metadata": {},
   "outputs": [],
   "source": [
    "#merge the parent_theme from the theme df and name from the set df columns together.\n",
    "merged_df = df.merge(lego_themes, left_on='parent_theme', right_on='name')\n",
    "merged_df.drop(columns='name_y', inplace=True)"
   ]
  },
  {
   "cell_type": "code",
   "execution_count": 5,
   "id": "0bad6290",
   "metadata": {},
   "outputs": [
    {
     "data": {
      "text/html": [
       "<div>\n",
       "<style scoped>\n",
       "    .dataframe tbody tr th:only-of-type {\n",
       "        vertical-align: middle;\n",
       "    }\n",
       "\n",
       "    .dataframe tbody tr th {\n",
       "        vertical-align: top;\n",
       "    }\n",
       "\n",
       "    .dataframe thead th {\n",
       "        text-align: right;\n",
       "    }\n",
       "</style>\n",
       "<table border=\"1\" class=\"dataframe\">\n",
       "  <thead>\n",
       "    <tr style=\"text-align: right;\">\n",
       "      <th></th>\n",
       "      <th>set_num</th>\n",
       "      <th>name_x</th>\n",
       "      <th>year</th>\n",
       "      <th>num_parts</th>\n",
       "      <th>theme_name</th>\n",
       "      <th>parent_theme</th>\n",
       "      <th>id</th>\n",
       "      <th>is_licensed</th>\n",
       "    </tr>\n",
       "  </thead>\n",
       "  <tbody>\n",
       "    <tr>\n",
       "      <th>0</th>\n",
       "      <td>00-1</td>\n",
       "      <td>Weetabix Castle</td>\n",
       "      <td>1970</td>\n",
       "      <td>471.0</td>\n",
       "      <td>Castle</td>\n",
       "      <td>Legoland</td>\n",
       "      <td>411</td>\n",
       "      <td>False</td>\n",
       "    </tr>\n",
       "    <tr>\n",
       "      <th>1</th>\n",
       "      <td>00-2</td>\n",
       "      <td>Weetabix Promotional House 1</td>\n",
       "      <td>1976</td>\n",
       "      <td>NaN</td>\n",
       "      <td>Building</td>\n",
       "      <td>Legoland</td>\n",
       "      <td>411</td>\n",
       "      <td>False</td>\n",
       "    </tr>\n",
       "    <tr>\n",
       "      <th>2</th>\n",
       "      <td>00-3</td>\n",
       "      <td>Weetabix Promotional House 2</td>\n",
       "      <td>1976</td>\n",
       "      <td>NaN</td>\n",
       "      <td>Building</td>\n",
       "      <td>Legoland</td>\n",
       "      <td>411</td>\n",
       "      <td>False</td>\n",
       "    </tr>\n",
       "    <tr>\n",
       "      <th>3</th>\n",
       "      <td>00-4</td>\n",
       "      <td>Weetabix Promotional Windmill</td>\n",
       "      <td>1976</td>\n",
       "      <td>126.0</td>\n",
       "      <td>Building</td>\n",
       "      <td>Legoland</td>\n",
       "      <td>411</td>\n",
       "      <td>False</td>\n",
       "    </tr>\n",
       "    <tr>\n",
       "      <th>4</th>\n",
       "      <td>00-7</td>\n",
       "      <td>Weetabix Promotional Lego Village</td>\n",
       "      <td>1976</td>\n",
       "      <td>NaN</td>\n",
       "      <td>Building</td>\n",
       "      <td>Legoland</td>\n",
       "      <td>411</td>\n",
       "      <td>False</td>\n",
       "    </tr>\n",
       "  </tbody>\n",
       "</table>\n",
       "</div>"
      ],
      "text/plain": [
       "  set_num                             name_x  year  num_parts theme_name  \\\n",
       "0    00-1                    Weetabix Castle  1970      471.0     Castle   \n",
       "1    00-2       Weetabix Promotional House 1  1976        NaN   Building   \n",
       "2    00-3       Weetabix Promotional House 2  1976        NaN   Building   \n",
       "3    00-4      Weetabix Promotional Windmill  1976      126.0   Building   \n",
       "4    00-7  Weetabix Promotional Lego Village  1976        NaN   Building   \n",
       "\n",
       "  parent_theme   id  is_licensed  \n",
       "0     Legoland  411        False  \n",
       "1     Legoland  411        False  \n",
       "2     Legoland  411        False  \n",
       "3     Legoland  411        False  \n",
       "4     Legoland  411        False  "
      ]
     },
     "execution_count": 5,
     "metadata": {},
     "output_type": "execute_result"
    }
   ],
   "source": [
    "merged_df.head()"
   ]
  },
  {
   "cell_type": "code",
   "execution_count": 6,
   "id": "95737625",
   "metadata": {},
   "outputs": [
    {
     "data": {
      "text/html": [
       "<div>\n",
       "<style scoped>\n",
       "    .dataframe tbody tr th:only-of-type {\n",
       "        vertical-align: middle;\n",
       "    }\n",
       "\n",
       "    .dataframe tbody tr th {\n",
       "        vertical-align: top;\n",
       "    }\n",
       "\n",
       "    .dataframe thead th {\n",
       "        text-align: right;\n",
       "    }\n",
       "</style>\n",
       "<table border=\"1\" class=\"dataframe\">\n",
       "  <thead>\n",
       "    <tr style=\"text-align: right;\">\n",
       "      <th></th>\n",
       "      <th>set_num</th>\n",
       "      <th>name_x</th>\n",
       "      <th>year</th>\n",
       "      <th>num_parts</th>\n",
       "      <th>theme_name</th>\n",
       "      <th>parent_theme</th>\n",
       "      <th>id</th>\n",
       "      <th>is_licensed</th>\n",
       "    </tr>\n",
       "  </thead>\n",
       "  <tbody>\n",
       "    <tr>\n",
       "      <th>3493</th>\n",
       "      <td>10018-1</td>\n",
       "      <td>Darth Maul</td>\n",
       "      <td>2001</td>\n",
       "      <td>1868.0</td>\n",
       "      <td>Star Wars</td>\n",
       "      <td>Star Wars</td>\n",
       "      <td>158</td>\n",
       "      <td>True</td>\n",
       "    </tr>\n",
       "    <tr>\n",
       "      <th>3494</th>\n",
       "      <td>10019-1</td>\n",
       "      <td>Rebel Blockade Runner - UCS</td>\n",
       "      <td>2001</td>\n",
       "      <td>NaN</td>\n",
       "      <td>Star Wars Episode 4/5/6</td>\n",
       "      <td>Star Wars</td>\n",
       "      <td>158</td>\n",
       "      <td>True</td>\n",
       "    </tr>\n",
       "    <tr>\n",
       "      <th>3495</th>\n",
       "      <td>10026-1</td>\n",
       "      <td>Naboo Starfighter - UCS</td>\n",
       "      <td>2002</td>\n",
       "      <td>NaN</td>\n",
       "      <td>Star Wars Episode 1</td>\n",
       "      <td>Star Wars</td>\n",
       "      <td>158</td>\n",
       "      <td>True</td>\n",
       "    </tr>\n",
       "    <tr>\n",
       "      <th>3496</th>\n",
       "      <td>10030-1</td>\n",
       "      <td>Imperial Star Destroyer - UCS</td>\n",
       "      <td>2002</td>\n",
       "      <td>3115.0</td>\n",
       "      <td>Star Wars Episode 4/5/6</td>\n",
       "      <td>Star Wars</td>\n",
       "      <td>158</td>\n",
       "      <td>True</td>\n",
       "    </tr>\n",
       "    <tr>\n",
       "      <th>3497</th>\n",
       "      <td>10123-1</td>\n",
       "      <td>Cloud City</td>\n",
       "      <td>2003</td>\n",
       "      <td>707.0</td>\n",
       "      <td>Star Wars Episode 4/5/6</td>\n",
       "      <td>Star Wars</td>\n",
       "      <td>158</td>\n",
       "      <td>True</td>\n",
       "    </tr>\n",
       "  </tbody>\n",
       "</table>\n",
       "</div>"
      ],
      "text/plain": [
       "      set_num                         name_x  year  num_parts  \\\n",
       "3493  10018-1                     Darth Maul  2001     1868.0   \n",
       "3494  10019-1    Rebel Blockade Runner - UCS  2001        NaN   \n",
       "3495  10026-1        Naboo Starfighter - UCS  2002        NaN   \n",
       "3496  10030-1  Imperial Star Destroyer - UCS  2002     3115.0   \n",
       "3497  10123-1                     Cloud City  2003      707.0   \n",
       "\n",
       "                   theme_name parent_theme   id  is_licensed  \n",
       "3493                Star Wars    Star Wars  158         True  \n",
       "3494  Star Wars Episode 4/5/6    Star Wars  158         True  \n",
       "3495      Star Wars Episode 1    Star Wars  158         True  \n",
       "3496  Star Wars Episode 4/5/6    Star Wars  158         True  \n",
       "3497  Star Wars Episode 4/5/6    Star Wars  158         True  "
      ]
     },
     "execution_count": 6,
     "metadata": {},
     "output_type": "execute_result"
    }
   ],
   "source": [
    "#filter out the sets with themes that are licensed.\n",
    "licensed_df = merged_df[merged_df['is_licensed']]\n",
    "licensed_df = licensed_df.dropna(subset=['set_num'])\n",
    "licensed_df.head()"
   ]
  },
  {
   "cell_type": "code",
   "execution_count": 7,
   "id": "e4654645",
   "metadata": {},
   "outputs": [
    {
     "name": "stdout",
     "output_type": "stream",
     "text": [
      "51\n"
     ]
    }
   ],
   "source": [
    "#what percentage of the licensed sets are Star Wars.\n",
    "star_wars = licensed_df[licensed_df['parent_theme'] == 'Star Wars']\n",
    "\n",
    "the_force = int(star_wars.shape[0] / licensed_df.shape[0] * 100)\n",
    "\n",
    "print(the_force)\n",
    "\n",
    "# ANSWER 1: The percentage of all licensed sets that are Star Wars themed is 51%."
   ]
  },
  {
   "cell_type": "markdown",
   "id": "09e0430e",
   "metadata": {},
   "source": [
    "### 2. In which year was Star Wars not the most popular licensed theme (in terms of number of sets released that year? "
   ]
  },
  {
   "cell_type": "code",
   "execution_count": 28,
   "id": "bf6090a0",
   "metadata": {},
   "outputs": [],
   "source": [
    "summed_df = licensed_df.groupby(['year', 'parent_theme']).sum().reset_index()\n",
    "\n",
    "max_df = summed_df.sort_values('is_licensed', ascending=False).drop_duplicates(['year'])\n",
    "\n",
    "max_df.sort_values('year', inplace=True)\n",
    "\n",
    "# max_df.head(20)\n",
    "\n",
    "\n",
    "#ANSWER 2: Star Wars was beat by Super Heroes in the year 2017."
   ]
  },
  {
   "cell_type": "markdown",
   "id": "49998770",
   "metadata": {},
   "source": [
    "### 3. What's the average number of parts in Star Wars-themed sets compared to other themes?"
   ]
  },
  {
   "cell_type": "code",
   "execution_count": 12,
   "id": "4dc320fc",
   "metadata": {},
   "outputs": [
    {
     "name": "stdout",
     "output_type": "stream",
     "text": [
      "Average Number of Parts in Star Wars-themed Sets: 318.1\n",
      "Average Number of Parts in Other Themes: 155.96\n"
     ]
    }
   ],
   "source": [
    "# Create a boolean mask to filter Star Wars-themed sets.\n",
    "star_wars_mask = merged_df['parent_theme'] == 'Star Wars'\n",
    "\n",
    "# Calculate the average number of parts for Star Wars-themed sets\n",
    "avg_parts_star_wars = merged_df.loc[star_wars_mask, 'num_parts'].mean()\n",
    "\n",
    "# Calculate the average number of parts for sets of other themes\n",
    "avg_parts_other_themes = merged_df.loc[~star_wars_mask, 'num_parts'].mean()\n",
    "\n",
    "# print(\"Average Number of Parts in Star Wars-themed Sets:\", round(avg_parts_star_wars, 2))\n",
    "# print(\"Average Number of Parts in Other Themes:\", round(avg_parts_other_themes, 2))\n",
    "\n",
    "\n",
    "#3 ANSWER\n",
    "# Average Number of Parts in Star Wars-themed Sets: 318.1\n",
    "# Average Number of Parts in Other Themes: 155.96"
   ]
  },
  {
   "cell_type": "markdown",
   "id": "6b2abcf7",
   "metadata": {},
   "source": [
    "### 4. What are the top 5 most popular themes based on the total number of sets released?"
   ]
  },
  {
   "cell_type": "code",
   "execution_count": 23,
   "id": "17a31ce9",
   "metadata": {},
   "outputs": [
    {
     "data": {
      "text/plain": [
       "parent_theme\n",
       "Town             1116\n",
       "Seasonal          928\n",
       "Star Wars         609\n",
       "Technic           536\n",
       "Service Packs     456\n",
       "Name: count, dtype: int64"
      ]
     },
     "execution_count": 23,
     "metadata": {},
     "output_type": "execute_result"
    }
   ],
   "source": [
    "# Group by theme and count the number of sets for each theme\n",
    "theme_counts = merged_df['parent_theme'].value_counts()\n",
    "\n",
    "# Get the top 5 themes\n",
    "top_5_themes = theme_counts.head(5)\n",
    "\n",
    "# top_5_themes\n",
    "\n",
    "#ANSWER 4\n",
    "# parent_theme\n",
    "# Town             1116\n",
    "# Seasonal          928\n",
    "# Star Wars         609\n",
    "# Technic           536\n",
    "# Service Packs     456"
   ]
  },
  {
   "cell_type": "markdown",
   "id": "417b3e74",
   "metadata": {},
   "source": [
    "### 5. What percentage of all sets are licensed themes?"
   ]
  },
  {
   "cell_type": "code",
   "execution_count": 29,
   "id": "c8ec4930",
   "metadata": {},
   "outputs": [],
   "source": [
    "licensed_percentage = int(licensed_df.shape[0] / df.shape[0] * 100)\n",
    "# print(licensed_percentage)\n",
    "\n",
    "# ANSWER 5: 9% of all sets are licensed themes."
   ]
  },
  {
   "cell_type": "markdown",
   "id": "8d0a2ed2",
   "metadata": {},
   "source": [
    "### 6. Do licensed themes tend to have more parts on average than non-licensed themes?"
   ]
  },
  {
   "cell_type": "code",
   "execution_count": 33,
   "id": "e6ed3ba0",
   "metadata": {},
   "outputs": [
    {
     "name": "stdout",
     "output_type": "stream",
     "text": [
      "Average Number of Parts in Licensed Themes: 305.38\n",
      "Average Number of Parts in Non-Licensed Themes: 146.46\n"
     ]
    }
   ],
   "source": [
    "# Create boolean masks for licensed and non-licensed themes\n",
    "licensed_mask = merged_df['is_licensed']\n",
    "non_licensed_mask = merged_df['is_licensed'] == False\n",
    "\n",
    "# Calculate the average number of parts for licensed themes\n",
    "avg_parts_licensed = merged_df.loc[licensed_mask, 'num_parts'].mean()\n",
    "\n",
    "# Calculate the average number of parts for non-licensed themes\n",
    "avg_parts_non_licensed = merged_df.loc[non_licensed_mask, 'num_parts'].mean()\n",
    "\n",
    "# print(\"Average Number of Parts in Licensed Themes:\", round(avg_parts_licensed, 2))\n",
    "# print(\"Average Number of Parts in Non-Licensed Themes:\", round(avg_parts_non_licensed,2))\n",
    "\n",
    "#ANSWER 6\n",
    "# Average Number of Parts in Licensed Themes: 305.38\n",
    "# Average Number of Parts in Non-Licensed Themes: 146.46"
   ]
  },
  {
   "cell_type": "markdown",
   "id": "28154dca",
   "metadata": {},
   "source": [
    "### 7. Are there any parent themes that are consistently popular across the years?"
   ]
  },
  {
   "cell_type": "code",
   "execution_count": 39,
   "id": "80e761ba",
   "metadata": {},
   "outputs": [
    {
     "name": "stdout",
     "output_type": "stream",
     "text": [
      "Parent Themes That Are Consistently Popular Across the Years:\n",
      "['Collectible Minifigures']\n"
     ]
    }
   ],
   "source": [
    "# Group by parent theme and count the number of sets for each parent theme\n",
    "theme_counts_by_year = merged_df.groupby(['parent_theme', 'year']).size().reset_index(name='set_count')\n",
    "\n",
    "# Calculate the average number of sets per year for each parent theme\n",
    "avg_sets_per_year = theme_counts_by_year.groupby('parent_theme')['set_count'].mean()\n",
    "\n",
    "# Identify parent themes that are consistently popular\n",
    "consistently_popular_themes = avg_sets_per_year[avg_sets_per_year == avg_sets_per_year.max()].index.tolist()\n",
    "\n",
    "# print(\"Parent Themes That Are Consistently Popular Across the Years:\")\n",
    "# print(consistently_popular_themes)\n",
    "\n",
    "#ANSWER 7\n",
    "# Parent Themes That Are Consistently Popular Across the Years:\n",
    "# ['Collectible Minifigures']"
   ]
  },
  {
   "cell_type": "code",
   "execution_count": null,
   "id": "db9c6d0e",
   "metadata": {},
   "outputs": [],
   "source": []
  }
 ],
 "metadata": {
  "kernelspec": {
   "display_name": "Python 3 (ipykernel)",
   "language": "python",
   "name": "python3"
  },
  "language_info": {
   "codemirror_mode": {
    "name": "ipython",
    "version": 3
   },
   "file_extension": ".py",
   "mimetype": "text/x-python",
   "name": "python",
   "nbconvert_exporter": "python",
   "pygments_lexer": "ipython3",
   "version": "3.11.5"
  }
 },
 "nbformat": 4,
 "nbformat_minor": 5
}
